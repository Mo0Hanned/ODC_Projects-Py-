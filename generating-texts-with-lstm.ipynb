{
 "cells": [
  {
   "cell_type": "markdown",
   "id": "40cec614",
   "metadata": {
    "papermill": {
     "duration": 0.006899,
     "end_time": "2024-09-16T17:04:58.904118",
     "exception": false,
     "start_time": "2024-09-16T17:04:58.897219",
     "status": "completed"
    },
    "tags": []
   },
   "source": [
    "## Loading library"
   ]
  },
  {
   "cell_type": "code",
   "execution_count": 1,
   "id": "cef36f52",
   "metadata": {
    "_cell_guid": "b1076dfc-b9ad-4769-8c92-a6c4dae69d19",
    "_uuid": "8f2839f25d086af736a60e9eeb907d3b93b6e0e5",
    "execution": {
     "iopub.execute_input": "2024-09-16T17:04:58.918044Z",
     "iopub.status.busy": "2024-09-16T17:04:58.917589Z",
     "iopub.status.idle": "2024-09-16T17:05:12.833482Z",
     "shell.execute_reply": "2024-09-16T17:05:12.832556Z"
    },
    "papermill": {
     "duration": 13.92568,
     "end_time": "2024-09-16T17:05:12.835974",
     "exception": false,
     "start_time": "2024-09-16T17:04:58.910294",
     "status": "completed"
    },
    "tags": []
   },
   "outputs": [],
   "source": [
    "import random\n",
    "import numpy as np\n",
    "import tensorflow as tf\n",
    "from tensorflow.keras.models import Sequential\n",
    "from tensorflow.keras.optimizers import RMSprop\n",
    "from tensorflow.keras.layers import Activation, Dense, LSTM\n",
    "import warnings\n",
    "warnings.filterwarnings(\"ignore\")"
   ]
  },
  {
   "cell_type": "markdown",
   "id": "77c2cdc7",
   "metadata": {
    "papermill": {
     "duration": 0.00531,
     "end_time": "2024-09-16T17:05:12.847062",
     "exception": false,
     "start_time": "2024-09-16T17:05:12.841752",
     "status": "completed"
    },
    "tags": []
   },
   "source": [
    "## Loading Shakespeare Texts"
   ]
  },
  {
   "cell_type": "code",
   "execution_count": 2,
   "id": "fc1dc525",
   "metadata": {
    "execution": {
     "iopub.execute_input": "2024-09-16T17:05:12.859947Z",
     "iopub.status.busy": "2024-09-16T17:05:12.859019Z",
     "iopub.status.idle": "2024-09-16T17:05:12.867131Z",
     "shell.execute_reply": "2024-09-16T17:05:12.866212Z"
    },
    "papermill": {
     "duration": 0.016673,
     "end_time": "2024-09-16T17:05:12.869206",
     "exception": false,
     "start_time": "2024-09-16T17:05:12.852533",
     "status": "completed"
    },
    "tags": []
   },
   "outputs": [],
   "source": [
    "filepath = tf.keras.utils.get_file('/kaggle/input/photo12/shakespeare.txt',\n",
    "        'https://storage.googleapis.com/download.tensorflow.org/data/shakespeare.txt')"
   ]
  },
  {
   "cell_type": "code",
   "execution_count": 3,
   "id": "f6abd99e",
   "metadata": {
    "execution": {
     "iopub.execute_input": "2024-09-16T17:05:12.881939Z",
     "iopub.status.busy": "2024-09-16T17:05:12.881554Z",
     "iopub.status.idle": "2024-09-16T17:05:12.900879Z",
     "shell.execute_reply": "2024-09-16T17:05:12.899810Z"
    },
    "papermill": {
     "duration": 0.02806,
     "end_time": "2024-09-16T17:05:12.903178",
     "exception": false,
     "start_time": "2024-09-16T17:05:12.875118",
     "status": "completed"
    },
    "tags": []
   },
   "outputs": [],
   "source": [
    "text = open(filepath, 'rb').read().decode(encoding='utf-8').lower()\n"
   ]
  },
  {
   "cell_type": "code",
   "execution_count": 4,
   "id": "a4551539",
   "metadata": {
    "execution": {
     "iopub.execute_input": "2024-09-16T17:05:12.916249Z",
     "iopub.status.busy": "2024-09-16T17:05:12.915902Z",
     "iopub.status.idle": "2024-09-16T17:05:12.920664Z",
     "shell.execute_reply": "2024-09-16T17:05:12.919641Z"
    },
    "papermill": {
     "duration": 0.013849,
     "end_time": "2024-09-16T17:05:12.922856",
     "exception": false,
     "start_time": "2024-09-16T17:05:12.909007",
     "status": "completed"
    },
    "tags": []
   },
   "outputs": [],
   "source": [
    "text = text[300000:800000]"
   ]
  },
  {
   "cell_type": "markdown",
   "id": "06efae2b",
   "metadata": {
    "papermill": {
     "duration": 0.005403,
     "end_time": "2024-09-16T17:05:12.933968",
     "exception": false,
     "start_time": "2024-09-16T17:05:12.928565",
     "status": "completed"
    },
    "tags": []
   },
   "source": [
    "## Preparing Data"
   ]
  },
  {
   "cell_type": "code",
   "execution_count": 5,
   "id": "b34e695a",
   "metadata": {
    "execution": {
     "iopub.execute_input": "2024-09-16T17:05:12.946680Z",
     "iopub.status.busy": "2024-09-16T17:05:12.946354Z",
     "iopub.status.idle": "2024-09-16T17:05:12.959313Z",
     "shell.execute_reply": "2024-09-16T17:05:12.958550Z"
    },
    "papermill": {
     "duration": 0.021807,
     "end_time": "2024-09-16T17:05:12.961269",
     "exception": false,
     "start_time": "2024-09-16T17:05:12.939462",
     "status": "completed"
    },
    "tags": []
   },
   "outputs": [],
   "source": [
    "characters = sorted(set(text))\n",
    "\n",
    "char_to_index = dict((c, i) for i, c in enumerate(characters))\n",
    "index_to_char = dict((i, c) for i, c in enumerate(characters))"
   ]
  },
  {
   "cell_type": "code",
   "execution_count": 6,
   "id": "0b46d280",
   "metadata": {
    "execution": {
     "iopub.execute_input": "2024-09-16T17:05:12.973855Z",
     "iopub.status.busy": "2024-09-16T17:05:12.973500Z",
     "iopub.status.idle": "2024-09-16T17:05:12.978156Z",
     "shell.execute_reply": "2024-09-16T17:05:12.977226Z"
    },
    "papermill": {
     "duration": 0.0134,
     "end_time": "2024-09-16T17:05:12.980333",
     "exception": false,
     "start_time": "2024-09-16T17:05:12.966933",
     "status": "completed"
    },
    "tags": []
   },
   "outputs": [],
   "source": [
    "SEQ_LENGTH = 40\n",
    "STEP_SIZE = 3\n",
    "\n",
    "sentences = []\n",
    "next_char = []"
   ]
  },
  {
   "cell_type": "code",
   "execution_count": 7,
   "id": "959eff3f",
   "metadata": {
    "execution": {
     "iopub.execute_input": "2024-09-16T17:05:12.992891Z",
     "iopub.status.busy": "2024-09-16T17:05:12.992506Z",
     "iopub.status.idle": "2024-09-16T17:05:13.106943Z",
     "shell.execute_reply": "2024-09-16T17:05:13.106064Z"
    },
    "papermill": {
     "duration": 0.123791,
     "end_time": "2024-09-16T17:05:13.109627",
     "exception": false,
     "start_time": "2024-09-16T17:05:12.985836",
     "status": "completed"
    },
    "tags": []
   },
   "outputs": [],
   "source": [
    "for i in range(0, len(text) - SEQ_LENGTH, STEP_SIZE):\n",
    "    sentences.append(text[i: i + SEQ_LENGTH])\n",
    "    next_char.append(text[i + SEQ_LENGTH])"
   ]
  },
  {
   "cell_type": "code",
   "execution_count": 8,
   "id": "f74f3fae",
   "metadata": {
    "execution": {
     "iopub.execute_input": "2024-09-16T17:05:13.122917Z",
     "iopub.status.busy": "2024-09-16T17:05:13.122508Z",
     "iopub.status.idle": "2024-09-16T17:05:16.940447Z",
     "shell.execute_reply": "2024-09-16T17:05:16.939494Z"
    },
    "papermill": {
     "duration": 3.827527,
     "end_time": "2024-09-16T17:05:16.943224",
     "exception": false,
     "start_time": "2024-09-16T17:05:13.115697",
     "status": "completed"
    },
    "tags": []
   },
   "outputs": [],
   "source": [
    "x = np.zeros((len(sentences), SEQ_LENGTH,\n",
    "              len(characters)), dtype= np.bool_)\n",
    "y = np.zeros((len(sentences),\n",
    "              len(characters)), dtype= np.bool_)\n",
    "\n",
    "for i, satz in enumerate(sentences):\n",
    "    for t, char in enumerate(satz):\n",
    "        x[i, t, char_to_index[char]] = 1\n",
    "    y[i, char_to_index[next_char[i]]] = 1"
   ]
  },
  {
   "cell_type": "markdown",
   "id": "854e1377",
   "metadata": {
    "papermill": {
     "duration": 0.005921,
     "end_time": "2024-09-16T17:05:16.955475",
     "exception": false,
     "start_time": "2024-09-16T17:05:16.949554",
     "status": "completed"
    },
    "tags": []
   },
   "source": [
    "## Building Recurrent Neural Network"
   ]
  },
  {
   "cell_type": "code",
   "execution_count": 9,
   "id": "80e9ad06",
   "metadata": {
    "execution": {
     "iopub.execute_input": "2024-09-16T17:05:16.968410Z",
     "iopub.status.busy": "2024-09-16T17:05:16.968034Z",
     "iopub.status.idle": "2024-09-16T17:05:18.279896Z",
     "shell.execute_reply": "2024-09-16T17:05:18.278899Z"
    },
    "papermill": {
     "duration": 1.321151,
     "end_time": "2024-09-16T17:05:18.282460",
     "exception": false,
     "start_time": "2024-09-16T17:05:16.961309",
     "status": "completed"
    },
    "tags": []
   },
   "outputs": [],
   "source": [
    "model = Sequential()\n",
    "model.add(LSTM(128,\n",
    "               input_shape=(SEQ_LENGTH,\n",
    "                            len(characters))))\n",
    "model.add(Dense(len(characters)))\n",
    "model.add(Activation('softmax'))"
   ]
  },
  {
   "cell_type": "code",
   "execution_count": 10,
   "id": "377d506a",
   "metadata": {
    "execution": {
     "iopub.execute_input": "2024-09-16T17:05:18.295629Z",
     "iopub.status.busy": "2024-09-16T17:05:18.295246Z",
     "iopub.status.idle": "2024-09-16T17:08:35.381425Z",
     "shell.execute_reply": "2024-09-16T17:08:35.380385Z"
    },
    "papermill": {
     "duration": 197.09531,
     "end_time": "2024-09-16T17:08:35.383693",
     "exception": false,
     "start_time": "2024-09-16T17:05:18.288383",
     "status": "completed"
    },
    "tags": []
   },
   "outputs": [
    {
     "name": "stdout",
     "output_type": "stream",
     "text": [
      "Epoch 1/50\n",
      "\u001b[1m651/651\u001b[0m \u001b[32m━━━━━━━━━━━━━━━━━━━━\u001b[0m\u001b[37m\u001b[0m \u001b[1m5s\u001b[0m 6ms/step - loss: 2.3931\n",
      "Epoch 2/50\n",
      "\u001b[1m651/651\u001b[0m \u001b[32m━━━━━━━━━━━━━━━━━━━━\u001b[0m\u001b[37m\u001b[0m \u001b[1m4s\u001b[0m 6ms/step - loss: 1.6819\n",
      "Epoch 3/50\n",
      "\u001b[1m651/651\u001b[0m \u001b[32m━━━━━━━━━━━━━━━━━━━━\u001b[0m\u001b[37m\u001b[0m \u001b[1m4s\u001b[0m 6ms/step - loss: 1.5360\n",
      "Epoch 4/50\n",
      "\u001b[1m651/651\u001b[0m \u001b[32m━━━━━━━━━━━━━━━━━━━━\u001b[0m\u001b[37m\u001b[0m \u001b[1m4s\u001b[0m 6ms/step - loss: 1.4646\n",
      "Epoch 5/50\n",
      "\u001b[1m651/651\u001b[0m \u001b[32m━━━━━━━━━━━━━━━━━━━━\u001b[0m\u001b[37m\u001b[0m \u001b[1m4s\u001b[0m 6ms/step - loss: 1.4065\n",
      "Epoch 6/50\n",
      "\u001b[1m651/651\u001b[0m \u001b[32m━━━━━━━━━━━━━━━━━━━━\u001b[0m\u001b[37m\u001b[0m \u001b[1m4s\u001b[0m 6ms/step - loss: 1.3820\n",
      "Epoch 7/50\n",
      "\u001b[1m651/651\u001b[0m \u001b[32m━━━━━━━━━━━━━━━━━━━━\u001b[0m\u001b[37m\u001b[0m \u001b[1m4s\u001b[0m 6ms/step - loss: 1.3492\n",
      "Epoch 8/50\n",
      "\u001b[1m651/651\u001b[0m \u001b[32m━━━━━━━━━━━━━━━━━━━━\u001b[0m\u001b[37m\u001b[0m \u001b[1m4s\u001b[0m 6ms/step - loss: 1.3175\n",
      "Epoch 9/50\n",
      "\u001b[1m651/651\u001b[0m \u001b[32m━━━━━━━━━━━━━━━━━━━━\u001b[0m\u001b[37m\u001b[0m \u001b[1m4s\u001b[0m 6ms/step - loss: 1.3021\n",
      "Epoch 10/50\n",
      "\u001b[1m651/651\u001b[0m \u001b[32m━━━━━━━━━━━━━━━━━━━━\u001b[0m\u001b[37m\u001b[0m \u001b[1m4s\u001b[0m 6ms/step - loss: 1.2884\n",
      "Epoch 11/50\n",
      "\u001b[1m651/651\u001b[0m \u001b[32m━━━━━━━━━━━━━━━━━━━━\u001b[0m\u001b[37m\u001b[0m \u001b[1m4s\u001b[0m 6ms/step - loss: 1.2680\n",
      "Epoch 12/50\n",
      "\u001b[1m651/651\u001b[0m \u001b[32m━━━━━━━━━━━━━━━━━━━━\u001b[0m\u001b[37m\u001b[0m \u001b[1m4s\u001b[0m 6ms/step - loss: 1.2670\n",
      "Epoch 13/50\n",
      "\u001b[1m651/651\u001b[0m \u001b[32m━━━━━━━━━━━━━━━━━━━━\u001b[0m\u001b[37m\u001b[0m \u001b[1m4s\u001b[0m 6ms/step - loss: 1.2545\n",
      "Epoch 14/50\n",
      "\u001b[1m651/651\u001b[0m \u001b[32m━━━━━━━━━━━━━━━━━━━━\u001b[0m\u001b[37m\u001b[0m \u001b[1m4s\u001b[0m 6ms/step - loss: 1.2415\n",
      "Epoch 15/50\n",
      "\u001b[1m651/651\u001b[0m \u001b[32m━━━━━━━━━━━━━━━━━━━━\u001b[0m\u001b[37m\u001b[0m \u001b[1m4s\u001b[0m 6ms/step - loss: 1.2343\n",
      "Epoch 16/50\n",
      "\u001b[1m651/651\u001b[0m \u001b[32m━━━━━━━━━━━━━━━━━━━━\u001b[0m\u001b[37m\u001b[0m \u001b[1m4s\u001b[0m 6ms/step - loss: 1.2192\n",
      "Epoch 17/50\n",
      "\u001b[1m651/651\u001b[0m \u001b[32m━━━━━━━━━━━━━━━━━━━━\u001b[0m\u001b[37m\u001b[0m \u001b[1m4s\u001b[0m 6ms/step - loss: 1.2184\n",
      "Epoch 18/50\n",
      "\u001b[1m651/651\u001b[0m \u001b[32m━━━━━━━━━━━━━━━━━━━━\u001b[0m\u001b[37m\u001b[0m \u001b[1m4s\u001b[0m 6ms/step - loss: 1.2084\n",
      "Epoch 19/50\n",
      "\u001b[1m651/651\u001b[0m \u001b[32m━━━━━━━━━━━━━━━━━━━━\u001b[0m\u001b[37m\u001b[0m \u001b[1m4s\u001b[0m 6ms/step - loss: 1.2117\n",
      "Epoch 20/50\n",
      "\u001b[1m651/651\u001b[0m \u001b[32m━━━━━━━━━━━━━━━━━━━━\u001b[0m\u001b[37m\u001b[0m \u001b[1m4s\u001b[0m 6ms/step - loss: 1.2078\n",
      "Epoch 21/50\n",
      "\u001b[1m651/651\u001b[0m \u001b[32m━━━━━━━━━━━━━━━━━━━━\u001b[0m\u001b[37m\u001b[0m \u001b[1m4s\u001b[0m 6ms/step - loss: 1.1997\n",
      "Epoch 22/50\n",
      "\u001b[1m651/651\u001b[0m \u001b[32m━━━━━━━━━━━━━━━━━━━━\u001b[0m\u001b[37m\u001b[0m \u001b[1m4s\u001b[0m 6ms/step - loss: 1.1939\n",
      "Epoch 23/50\n",
      "\u001b[1m651/651\u001b[0m \u001b[32m━━━━━━━━━━━━━━━━━━━━\u001b[0m\u001b[37m\u001b[0m \u001b[1m4s\u001b[0m 6ms/step - loss: 1.1986\n",
      "Epoch 24/50\n",
      "\u001b[1m651/651\u001b[0m \u001b[32m━━━━━━━━━━━━━━━━━━━━\u001b[0m\u001b[37m\u001b[0m \u001b[1m4s\u001b[0m 6ms/step - loss: 1.1864\n",
      "Epoch 25/50\n",
      "\u001b[1m651/651\u001b[0m \u001b[32m━━━━━━━━━━━━━━━━━━━━\u001b[0m\u001b[37m\u001b[0m \u001b[1m4s\u001b[0m 6ms/step - loss: 1.1732\n",
      "Epoch 26/50\n",
      "\u001b[1m651/651\u001b[0m \u001b[32m━━━━━━━━━━━━━━━━━━━━\u001b[0m\u001b[37m\u001b[0m \u001b[1m4s\u001b[0m 6ms/step - loss: 1.1819\n",
      "Epoch 27/50\n",
      "\u001b[1m651/651\u001b[0m \u001b[32m━━━━━━━━━━━━━━━━━━━━\u001b[0m\u001b[37m\u001b[0m \u001b[1m4s\u001b[0m 6ms/step - loss: 1.1734\n",
      "Epoch 28/50\n",
      "\u001b[1m651/651\u001b[0m \u001b[32m━━━━━━━━━━━━━━━━━━━━\u001b[0m\u001b[37m\u001b[0m \u001b[1m4s\u001b[0m 6ms/step - loss: 1.1697\n",
      "Epoch 29/50\n",
      "\u001b[1m651/651\u001b[0m \u001b[32m━━━━━━━━━━━━━━━━━━━━\u001b[0m\u001b[37m\u001b[0m \u001b[1m4s\u001b[0m 6ms/step - loss: 1.1633\n",
      "Epoch 30/50\n",
      "\u001b[1m651/651\u001b[0m \u001b[32m━━━━━━━━━━━━━━━━━━━━\u001b[0m\u001b[37m\u001b[0m \u001b[1m4s\u001b[0m 6ms/step - loss: 1.1591\n",
      "Epoch 31/50\n",
      "\u001b[1m651/651\u001b[0m \u001b[32m━━━━━━━━━━━━━━━━━━━━\u001b[0m\u001b[37m\u001b[0m \u001b[1m4s\u001b[0m 6ms/step - loss: 1.1588\n",
      "Epoch 32/50\n",
      "\u001b[1m651/651\u001b[0m \u001b[32m━━━━━━━━━━━━━━━━━━━━\u001b[0m\u001b[37m\u001b[0m \u001b[1m4s\u001b[0m 6ms/step - loss: 1.1464\n",
      "Epoch 33/50\n",
      "\u001b[1m651/651\u001b[0m \u001b[32m━━━━━━━━━━━━━━━━━━━━\u001b[0m\u001b[37m\u001b[0m \u001b[1m4s\u001b[0m 6ms/step - loss: 1.1477\n",
      "Epoch 34/50\n",
      "\u001b[1m651/651\u001b[0m \u001b[32m━━━━━━━━━━━━━━━━━━━━\u001b[0m\u001b[37m\u001b[0m \u001b[1m4s\u001b[0m 6ms/step - loss: 1.1516\n",
      "Epoch 35/50\n",
      "\u001b[1m651/651\u001b[0m \u001b[32m━━━━━━━━━━━━━━━━━━━━\u001b[0m\u001b[37m\u001b[0m \u001b[1m4s\u001b[0m 6ms/step - loss: 1.1505\n",
      "Epoch 36/50\n",
      "\u001b[1m651/651\u001b[0m \u001b[32m━━━━━━━━━━━━━━━━━━━━\u001b[0m\u001b[37m\u001b[0m \u001b[1m4s\u001b[0m 6ms/step - loss: 1.1407\n",
      "Epoch 37/50\n",
      "\u001b[1m651/651\u001b[0m \u001b[32m━━━━━━━━━━━━━━━━━━━━\u001b[0m\u001b[37m\u001b[0m \u001b[1m4s\u001b[0m 6ms/step - loss: 1.1434\n",
      "Epoch 38/50\n",
      "\u001b[1m651/651\u001b[0m \u001b[32m━━━━━━━━━━━━━━━━━━━━\u001b[0m\u001b[37m\u001b[0m \u001b[1m4s\u001b[0m 6ms/step - loss: 1.1415\n",
      "Epoch 39/50\n",
      "\u001b[1m651/651\u001b[0m \u001b[32m━━━━━━━━━━━━━━━━━━━━\u001b[0m\u001b[37m\u001b[0m \u001b[1m4s\u001b[0m 6ms/step - loss: 1.1369\n",
      "Epoch 40/50\n",
      "\u001b[1m651/651\u001b[0m \u001b[32m━━━━━━━━━━━━━━━━━━━━\u001b[0m\u001b[37m\u001b[0m \u001b[1m4s\u001b[0m 6ms/step - loss: 1.1359\n",
      "Epoch 41/50\n",
      "\u001b[1m651/651\u001b[0m \u001b[32m━━━━━━━━━━━━━━━━━━━━\u001b[0m\u001b[37m\u001b[0m \u001b[1m4s\u001b[0m 6ms/step - loss: 1.1379\n",
      "Epoch 42/50\n",
      "\u001b[1m651/651\u001b[0m \u001b[32m━━━━━━━━━━━━━━━━━━━━\u001b[0m\u001b[37m\u001b[0m \u001b[1m4s\u001b[0m 6ms/step - loss: 1.1239\n",
      "Epoch 43/50\n",
      "\u001b[1m651/651\u001b[0m \u001b[32m━━━━━━━━━━━━━━━━━━━━\u001b[0m\u001b[37m\u001b[0m \u001b[1m4s\u001b[0m 6ms/step - loss: 1.1292\n",
      "Epoch 44/50\n",
      "\u001b[1m651/651\u001b[0m \u001b[32m━━━━━━━━━━━━━━━━━━━━\u001b[0m\u001b[37m\u001b[0m \u001b[1m4s\u001b[0m 6ms/step - loss: 1.1254\n",
      "Epoch 45/50\n",
      "\u001b[1m651/651\u001b[0m \u001b[32m━━━━━━━━━━━━━━━━━━━━\u001b[0m\u001b[37m\u001b[0m \u001b[1m4s\u001b[0m 6ms/step - loss: 1.1241\n",
      "Epoch 46/50\n",
      "\u001b[1m651/651\u001b[0m \u001b[32m━━━━━━━━━━━━━━━━━━━━\u001b[0m\u001b[37m\u001b[0m \u001b[1m4s\u001b[0m 6ms/step - loss: 1.1247\n",
      "Epoch 47/50\n",
      "\u001b[1m651/651\u001b[0m \u001b[32m━━━━━━━━━━━━━━━━━━━━\u001b[0m\u001b[37m\u001b[0m \u001b[1m4s\u001b[0m 6ms/step - loss: 1.1209\n",
      "Epoch 48/50\n",
      "\u001b[1m651/651\u001b[0m \u001b[32m━━━━━━━━━━━━━━━━━━━━\u001b[0m\u001b[37m\u001b[0m \u001b[1m4s\u001b[0m 6ms/step - loss: 1.1201\n",
      "Epoch 49/50\n",
      "\u001b[1m651/651\u001b[0m \u001b[32m━━━━━━━━━━━━━━━━━━━━\u001b[0m\u001b[37m\u001b[0m \u001b[1m4s\u001b[0m 6ms/step - loss: 1.1172\n",
      "Epoch 50/50\n",
      "\u001b[1m651/651\u001b[0m \u001b[32m━━━━━━━━━━━━━━━━━━━━\u001b[0m\u001b[37m\u001b[0m \u001b[1m4s\u001b[0m 6ms/step - loss: 1.1151\n"
     ]
    },
    {
     "data": {
      "text/plain": [
       "<keras.src.callbacks.history.History at 0x7cb04ba15600>"
      ]
     },
     "execution_count": 10,
     "metadata": {},
     "output_type": "execute_result"
    }
   ],
   "source": [
    "model.compile(loss='categorical_crossentropy',\n",
    "              optimizer=RMSprop(learning_rate=0.01))\n",
    "\n",
    "model.fit(x, y, batch_size=256, epochs=50)"
   ]
  },
  {
   "cell_type": "markdown",
   "id": "8da13400",
   "metadata": {
    "papermill": {
     "duration": 0.344912,
     "end_time": "2024-09-16T17:08:36.070443",
     "exception": false,
     "start_time": "2024-09-16T17:08:35.725531",
     "status": "completed"
    },
    "tags": []
   },
   "source": [
    "## Helper Function"
   ]
  },
  {
   "cell_type": "code",
   "execution_count": 11,
   "id": "36d01059",
   "metadata": {
    "execution": {
     "iopub.execute_input": "2024-09-16T17:08:36.755370Z",
     "iopub.status.busy": "2024-09-16T17:08:36.754965Z",
     "iopub.status.idle": "2024-09-16T17:08:36.761481Z",
     "shell.execute_reply": "2024-09-16T17:08:36.760436Z"
    },
    "papermill": {
     "duration": 0.350027,
     "end_time": "2024-09-16T17:08:36.763571",
     "exception": false,
     "start_time": "2024-09-16T17:08:36.413544",
     "status": "completed"
    },
    "tags": []
   },
   "outputs": [],
   "source": [
    "def sample(preds, temperature=1.0):\n",
    "    preds = np.asarray(preds).astype('float64')\n",
    "    preds = np.log(preds) / temperature\n",
    "    exp_preds = np.exp(preds)\n",
    "    preds = exp_preds / np.sum(exp_preds)\n",
    "    probas = np.random.multinomial(1, preds, 1)\n",
    "    return np.argmax(probas)"
   ]
  },
  {
   "cell_type": "markdown",
   "id": "fc158707",
   "metadata": {
    "papermill": {
     "duration": 0.391959,
     "end_time": "2024-09-16T17:08:37.484545",
     "exception": false,
     "start_time": "2024-09-16T17:08:37.092586",
     "status": "completed"
    },
    "tags": []
   },
   "source": [
    "## Generating Text"
   ]
  },
  {
   "cell_type": "code",
   "execution_count": 12,
   "id": "401c5845",
   "metadata": {
    "execution": {
     "iopub.execute_input": "2024-09-16T17:08:38.148338Z",
     "iopub.status.busy": "2024-09-16T17:08:38.147498Z",
     "iopub.status.idle": "2024-09-16T17:08:38.155869Z",
     "shell.execute_reply": "2024-09-16T17:08:38.154825Z"
    },
    "papermill": {
     "duration": 0.344181,
     "end_time": "2024-09-16T17:08:38.158089",
     "exception": false,
     "start_time": "2024-09-16T17:08:37.813908",
     "status": "completed"
    },
    "tags": []
   },
   "outputs": [],
   "source": [
    "def generate_text(length, temperature):\n",
    "    start_index = random.randint(0, len(text) - SEQ_LENGTH - 1)\n",
    "    generated = ''\n",
    "    sentence = text[start_index: start_index + SEQ_LENGTH]\n",
    "    generated += sentence\n",
    "    for i in range(length):\n",
    "        x_predictions = np.zeros((1, SEQ_LENGTH, len(characters)))\n",
    "        for t, char in enumerate(sentence):\n",
    "            x_predictions[0, t, char_to_index[char]] = 1\n",
    "\n",
    "        predictions = model.predict(x_predictions, verbose=0)[0]\n",
    "        next_index = sample(predictions,\n",
    "                                 temperature)\n",
    "        next_character = index_to_char[next_index]\n",
    "\n",
    "        generated += next_character\n",
    "        sentence = sentence[1:] + next_character\n",
    "    return generated"
   ]
  },
  {
   "cell_type": "markdown",
   "id": "fe9032c9",
   "metadata": {
    "papermill": {
     "duration": 0.332177,
     "end_time": "2024-09-16T17:08:38.822746",
     "exception": false,
     "start_time": "2024-09-16T17:08:38.490569",
     "status": "completed"
    },
    "tags": []
   },
   "source": [
    "## Results"
   ]
  },
  {
   "cell_type": "code",
   "execution_count": 13,
   "id": "8298634a",
   "metadata": {
    "execution": {
     "iopub.execute_input": "2024-09-16T17:08:39.481469Z",
     "iopub.status.busy": "2024-09-16T17:08:39.480622Z",
     "iopub.status.idle": "2024-09-16T17:10:41.632291Z",
     "shell.execute_reply": "2024-09-16T17:10:41.631229Z"
    },
    "papermill": {
     "duration": 122.827519,
     "end_time": "2024-09-16T17:10:41.975466",
     "exception": false,
     "start_time": "2024-09-16T17:08:39.147947",
     "status": "completed"
    },
    "tags": []
   },
   "outputs": [
    {
     "name": "stdout",
     "output_type": "stream",
     "text": [
      "ishmen:\r\n",
      "the which, how far off from the earth and the seems of the sea,\r\n",
      "the searchic lancaster to the rest great:\r\n",
      "sir, i am the rest to the sword of the fair.\r\n",
      "what is the father of the seemind shall be\r\n",
      "of the second so i fear the stables of the earth\r\n",
      "to see the earth and the seemind should have thence\r\n",
      "that the search me to the rest\n",
      "\r\n",
      "\r\n",
      "camillo:\r\n",
      "i dare not know, my lord.\r\n",
      "\r\n",
      "king richard iii:\r\n",
      "come, get thee he did be death,\r\n",
      "and stay the world as he will speak of the seemed.\r\n",
      "\r\n",
      "king richard ii:\r\n",
      "what day, and then the walls our brave thee and death,\r\n",
      "the battle but be watching richard men'd,\r\n",
      "and be pledicest of the second me with the king,\r\n",
      "and saint well the secon\n",
      "d's banishment\r\n",
      "not gaunt's rebukes, nor post be repided\r\n",
      "such a man to the capulets to beggart.\r\n",
      "\r\n",
      "benvolio:\r\n",
      "and say elies; these hath the services of mers'd not,\r\n",
      "and where i take him do this proford her heavy\r\n",
      "in from our traw'd and despite of the cheek\r\n",
      "and dastal to his son that shall relise thee sear;\r\n",
      "and then the rough burght'd l\n",
      "f your majesty.\r\n",
      "\r\n",
      "king henry vi:\r\n",
      "for warwick, satchess i have no says good dance,\r\n",
      "and selfs amour of truth, i have stoper,\r\n",
      "in thy groat that removed to the earth to see,\r\n",
      "so dear many claim to the morning be,\r\n",
      "wherefore the stables of the morning both\r\n",
      "to have frewhing hath romeo upon the greatorm,\r\n",
      "that then shall signics cousin my c\n",
      "ain\r\n",
      "to all his lands and signories: when they me.\r\n",
      "\r\n",
      "king richard iii:\r\n",
      "justs her, i speak the orable to the spot\r\n",
      "whilst what satcing for the heart as my head.\r\n",
      "\r\n",
      "catules:\r\n",
      "what, more all thy love that i dies worse\r\n",
      "that i tush to the remen of his ready\r\n",
      "and treed to our true straig, sir to speak\r\n",
      "it hath conferat the search of my unfea\n",
      "l they have fretted us a pair of graves\r\n",
      "and many know wrong of the duedess,\r\n",
      "and smelm off engur'ed them appraised.\r\n",
      "as we'll you than a frow seemmon toples me to see,\r\n",
      "and that deserved my love, and never all\r\n",
      "may let him be not may be vicgace died.\r\n",
      "\r\n",
      "paris:\r\n",
      "and when house pardon face, what say stanley whends\r\n",
      "to make my love, to laug\n"
     ]
    }
   ],
   "source": [
    "print(generate_text(300, 0.2))\n",
    "print(generate_text(300, 0.4))\n",
    "print(generate_text(300, 0.5))\n",
    "print(generate_text(300, 0.6))\n",
    "print(generate_text(300, 0.7))\n",
    "print(generate_text(300, 0.8))"
   ]
  }
 ],
 "metadata": {
  "kaggle": {
   "accelerator": "gpu",
   "dataSources": [
    {
     "datasetId": 5717126,
     "sourceId": 9414035,
     "sourceType": "datasetVersion"
    }
   ],
   "dockerImageVersionId": 30762,
   "isGpuEnabled": true,
   "isInternetEnabled": true,
   "language": "python",
   "sourceType": "notebook"
  },
  "kernelspec": {
   "display_name": "Python 3",
   "language": "python",
   "name": "python3"
  },
  "language_info": {
   "codemirror_mode": {
    "name": "ipython",
    "version": 3
   },
   "file_extension": ".py",
   "mimetype": "text/x-python",
   "name": "python",
   "nbconvert_exporter": "python",
   "pygments_lexer": "ipython3",
   "version": "3.10.14"
  },
  "papermill": {
   "default_parameters": {},
   "duration": 349.043851,
   "end_time": "2024-09-16T17:10:44.937646",
   "environment_variables": {},
   "exception": null,
   "input_path": "__notebook__.ipynb",
   "output_path": "__notebook__.ipynb",
   "parameters": {},
   "start_time": "2024-09-16T17:04:55.893795",
   "version": "2.6.0"
  }
 },
 "nbformat": 4,
 "nbformat_minor": 5
}
